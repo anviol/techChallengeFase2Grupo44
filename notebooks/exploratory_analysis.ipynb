{
 "cells": [
  {
   "cell_type": "code",
   "execution_count": 40,
   "metadata": {},
   "outputs": [],
   "source": [
    "import pandas as pd"
   ]
  },
  {
   "cell_type": "code",
   "execution_count": 41,
   "metadata": {},
   "outputs": [],
   "source": [
    "years_analyzed = list(range(2020, 2023))"
   ]
  },
  {
   "cell_type": "code",
   "execution_count": 42,
   "metadata": {},
   "outputs": [],
   "source": [
    "def data_import(csv_file_path : str):\n",
    "    return pd.read_csv(csv_file_path, sep=\",\")"
   ]
  },
  {
   "cell_type": "code",
   "execution_count": 43,
   "metadata": {},
   "outputs": [],
   "source": [
    "data_ibovespa = {}\n",
    "\n",
    "for year in years_analyzed:\n",
    "    data_ibovespa[year] = data_import(f'../data/Dados Históricos - Ibovespa {year}.csv')"
   ]
  },
  {
   "cell_type": "code",
   "execution_count": 44,
   "metadata": {},
   "outputs": [
    {
     "data": {
      "text/html": [
       "<div>\n",
       "<style scoped>\n",
       "    .dataframe tbody tr th:only-of-type {\n",
       "        vertical-align: middle;\n",
       "    }\n",
       "\n",
       "    .dataframe tbody tr th {\n",
       "        vertical-align: top;\n",
       "    }\n",
       "\n",
       "    .dataframe thead th {\n",
       "        text-align: right;\n",
       "    }\n",
       "</style>\n",
       "<table border=\"1\" class=\"dataframe\">\n",
       "  <thead>\n",
       "    <tr style=\"text-align: right;\">\n",
       "      <th></th>\n",
       "      <th>Data</th>\n",
       "      <th>Último</th>\n",
       "      <th>Abertura</th>\n",
       "      <th>Máxima</th>\n",
       "      <th>Mínima</th>\n",
       "      <th>Vol.</th>\n",
       "      <th>Var%</th>\n",
       "    </tr>\n",
       "  </thead>\n",
       "  <tbody>\n",
       "    <tr>\n",
       "      <th>0</th>\n",
       "      <td>12/30/2020</td>\n",
       "      <td>119,017</td>\n",
       "      <td>119,410</td>\n",
       "      <td>120,150</td>\n",
       "      <td>118,919</td>\n",
       "      <td>8.24M</td>\n",
       "      <td>-0.33%</td>\n",
       "    </tr>\n",
       "    <tr>\n",
       "      <th>1</th>\n",
       "      <td>12/29/2020</td>\n",
       "      <td>119,409</td>\n",
       "      <td>119,130</td>\n",
       "      <td>119,861</td>\n",
       "      <td>118,750</td>\n",
       "      <td>6.77M</td>\n",
       "      <td>0.24%</td>\n",
       "    </tr>\n",
       "    <tr>\n",
       "      <th>2</th>\n",
       "      <td>12/28/2020</td>\n",
       "      <td>119,124</td>\n",
       "      <td>117,806</td>\n",
       "      <td>119,213</td>\n",
       "      <td>117,805</td>\n",
       "      <td>7.17M</td>\n",
       "      <td>1.12%</td>\n",
       "    </tr>\n",
       "    <tr>\n",
       "      <th>3</th>\n",
       "      <td>12/23/2020</td>\n",
       "      <td>117,807</td>\n",
       "      <td>116,636</td>\n",
       "      <td>118,311</td>\n",
       "      <td>116,636</td>\n",
       "      <td>6.48M</td>\n",
       "      <td>1.00%</td>\n",
       "    </tr>\n",
       "    <tr>\n",
       "      <th>4</th>\n",
       "      <td>12/22/2020</td>\n",
       "      <td>116,636</td>\n",
       "      <td>115,825</td>\n",
       "      <td>116,903</td>\n",
       "      <td>115,648</td>\n",
       "      <td>6.95M</td>\n",
       "      <td>0.70%</td>\n",
       "    </tr>\n",
       "  </tbody>\n",
       "</table>\n",
       "</div>"
      ],
      "text/plain": [
       "         Data   Último Abertura   Máxima   Mínima   Vol.    Var%\n",
       "0  12/30/2020  119,017  119,410  120,150  118,919  8.24M  -0.33%\n",
       "1  12/29/2020  119,409  119,130  119,861  118,750  6.77M   0.24%\n",
       "2  12/28/2020  119,124  117,806  119,213  117,805  7.17M   1.12%\n",
       "3  12/23/2020  117,807  116,636  118,311  116,636  6.48M   1.00%\n",
       "4  12/22/2020  116,636  115,825  116,903  115,648  6.95M   0.70%"
      ]
     },
     "execution_count": 44,
     "metadata": {},
     "output_type": "execute_result"
    }
   ],
   "source": [
    "grouped_data_ibovespa = pd.concat(data_ibovespa, ignore_index=True)\n",
    "\n",
    "grouped_data_ibovespa.head()"
   ]
  },
  {
   "cell_type": "code",
   "execution_count": 45,
   "metadata": {},
   "outputs": [
    {
     "name": "stdout",
     "output_type": "stream",
     "text": [
      "<class 'pandas.core.frame.DataFrame'>\n",
      "RangeIndex: 746 entries, 0 to 745\n",
      "Data columns (total 7 columns):\n",
      " #   Column    Non-Null Count  Dtype \n",
      "---  ------    --------------  ----- \n",
      " 0   Data      746 non-null    object\n",
      " 1   Último    746 non-null    object\n",
      " 2   Abertura  746 non-null    object\n",
      " 3   Máxima    746 non-null    object\n",
      " 4   Mínima    746 non-null    object\n",
      " 5   Vol.      746 non-null    object\n",
      " 6   Var%      746 non-null    object\n",
      "dtypes: object(7)\n",
      "memory usage: 40.9+ KB\n"
     ]
    }
   ],
   "source": [
    "grouped_data_ibovespa.info()"
   ]
  },
  {
   "cell_type": "code",
   "execution_count": 46,
   "metadata": {},
   "outputs": [],
   "source": [
    "grouped_data_ibovespa['Data'] = pd.to_datetime(grouped_data_ibovespa['Data'], format='%m/%d/%Y')\n",
    "\n",
    "cols_to_convert_float = ['Último', 'Abertura', 'Máxima', 'Mínima']\n",
    "\n",
    "for col in cols_to_convert_float:\n",
    "    grouped_data_ibovespa[col] = grouped_data_ibovespa[col].str.replace(',', '').astype(float)\n",
    "\n",
    "grouped_data_ibovespa['Var%'] = grouped_data_ibovespa['Var%'].str.replace('%', '').astype(float)"
   ]
  },
  {
   "cell_type": "code",
   "execution_count": 47,
   "metadata": {},
   "outputs": [
    {
     "name": "stdout",
     "output_type": "stream",
     "text": [
      "<class 'pandas.core.frame.DataFrame'>\n",
      "RangeIndex: 746 entries, 0 to 745\n",
      "Data columns (total 7 columns):\n",
      " #   Column    Non-Null Count  Dtype         \n",
      "---  ------    --------------  -----         \n",
      " 0   Data      746 non-null    datetime64[ns]\n",
      " 1   Último    746 non-null    float64       \n",
      " 2   Abertura  746 non-null    float64       \n",
      " 3   Máxima    746 non-null    float64       \n",
      " 4   Mínima    746 non-null    float64       \n",
      " 5   Vol.      746 non-null    object        \n",
      " 6   Var%      746 non-null    float64       \n",
      "dtypes: datetime64[ns](1), float64(5), object(1)\n",
      "memory usage: 40.9+ KB\n"
     ]
    }
   ],
   "source": [
    "grouped_data_ibovespa.info()"
   ]
  },
  {
   "cell_type": "code",
   "execution_count": 48,
   "metadata": {},
   "outputs": [
    {
     "name": "stdout",
     "output_type": "stream",
     "text": [
      "Todos os volumes estão em milhões? Sim\n"
     ]
    }
   ],
   "source": [
    "all_in_millions = grouped_data_ibovespa['Vol.'].str.contains('M').all()\n",
    "\n",
    "print(f\"Todos os volumes estão em milhões? {'Sim' if all_in_millions else 'Não'}\")"
   ]
  },
  {
   "cell_type": "code",
   "execution_count": 49,
   "metadata": {},
   "outputs": [],
   "source": [
    "grouped_data_ibovespa['Vol.'] = grouped_data_ibovespa['Vol.'].str.replace('M', '').astype(float) * 1e6"
   ]
  },
  {
   "cell_type": "code",
   "execution_count": 50,
   "metadata": {},
   "outputs": [
    {
     "name": "stdout",
     "output_type": "stream",
     "text": [
      "<class 'pandas.core.frame.DataFrame'>\n",
      "RangeIndex: 746 entries, 0 to 745\n",
      "Data columns (total 7 columns):\n",
      " #   Column    Non-Null Count  Dtype         \n",
      "---  ------    --------------  -----         \n",
      " 0   Data      746 non-null    datetime64[ns]\n",
      " 1   Último    746 non-null    float64       \n",
      " 2   Abertura  746 non-null    float64       \n",
      " 3   Máxima    746 non-null    float64       \n",
      " 4   Mínima    746 non-null    float64       \n",
      " 5   Vol.      746 non-null    float64       \n",
      " 6   Var%      746 non-null    float64       \n",
      "dtypes: datetime64[ns](1), float64(6)\n",
      "memory usage: 40.9 KB\n"
     ]
    }
   ],
   "source": [
    "grouped_data_ibovespa.info()"
   ]
  },
  {
   "cell_type": "code",
   "execution_count": 51,
   "metadata": {},
   "outputs": [
    {
     "data": {
      "text/html": [
       "<div>\n",
       "<style scoped>\n",
       "    .dataframe tbody tr th:only-of-type {\n",
       "        vertical-align: middle;\n",
       "    }\n",
       "\n",
       "    .dataframe tbody tr th {\n",
       "        vertical-align: top;\n",
       "    }\n",
       "\n",
       "    .dataframe thead th {\n",
       "        text-align: right;\n",
       "    }\n",
       "</style>\n",
       "<table border=\"1\" class=\"dataframe\">\n",
       "  <thead>\n",
       "    <tr style=\"text-align: right;\">\n",
       "      <th></th>\n",
       "      <th>Data</th>\n",
       "      <th>Último</th>\n",
       "      <th>Abertura</th>\n",
       "      <th>Máxima</th>\n",
       "      <th>Mínima</th>\n",
       "      <th>Vol.</th>\n",
       "      <th>Var%</th>\n",
       "    </tr>\n",
       "  </thead>\n",
       "  <tbody>\n",
       "    <tr>\n",
       "      <th>0</th>\n",
       "      <td>2020-12-30</td>\n",
       "      <td>119017.0</td>\n",
       "      <td>119410.0</td>\n",
       "      <td>120150.0</td>\n",
       "      <td>118919.0</td>\n",
       "      <td>8240000.0</td>\n",
       "      <td>-0.33</td>\n",
       "    </tr>\n",
       "    <tr>\n",
       "      <th>1</th>\n",
       "      <td>2020-12-29</td>\n",
       "      <td>119409.0</td>\n",
       "      <td>119130.0</td>\n",
       "      <td>119861.0</td>\n",
       "      <td>118750.0</td>\n",
       "      <td>6770000.0</td>\n",
       "      <td>0.24</td>\n",
       "    </tr>\n",
       "    <tr>\n",
       "      <th>2</th>\n",
       "      <td>2020-12-28</td>\n",
       "      <td>119124.0</td>\n",
       "      <td>117806.0</td>\n",
       "      <td>119213.0</td>\n",
       "      <td>117805.0</td>\n",
       "      <td>7170000.0</td>\n",
       "      <td>1.12</td>\n",
       "    </tr>\n",
       "    <tr>\n",
       "      <th>3</th>\n",
       "      <td>2020-12-23</td>\n",
       "      <td>117807.0</td>\n",
       "      <td>116636.0</td>\n",
       "      <td>118311.0</td>\n",
       "      <td>116636.0</td>\n",
       "      <td>6480000.0</td>\n",
       "      <td>1.00</td>\n",
       "    </tr>\n",
       "    <tr>\n",
       "      <th>4</th>\n",
       "      <td>2020-12-22</td>\n",
       "      <td>116636.0</td>\n",
       "      <td>115825.0</td>\n",
       "      <td>116903.0</td>\n",
       "      <td>115648.0</td>\n",
       "      <td>6950000.0</td>\n",
       "      <td>0.70</td>\n",
       "    </tr>\n",
       "  </tbody>\n",
       "</table>\n",
       "</div>"
      ],
      "text/plain": [
       "        Data    Último  Abertura    Máxima    Mínima       Vol.  Var%\n",
       "0 2020-12-30  119017.0  119410.0  120150.0  118919.0  8240000.0 -0.33\n",
       "1 2020-12-29  119409.0  119130.0  119861.0  118750.0  6770000.0  0.24\n",
       "2 2020-12-28  119124.0  117806.0  119213.0  117805.0  7170000.0  1.12\n",
       "3 2020-12-23  117807.0  116636.0  118311.0  116636.0  6480000.0  1.00\n",
       "4 2020-12-22  116636.0  115825.0  116903.0  115648.0  6950000.0  0.70"
      ]
     },
     "execution_count": 51,
     "metadata": {},
     "output_type": "execute_result"
    }
   ],
   "source": [
    "grouped_data_ibovespa.head()"
   ]
  },
  {
   "cell_type": "markdown",
   "metadata": {},
   "source": [
    "Resultado: Feito, analisando o valor atual da ação que é de 124.307,83 na data de hoje (27/06/2024 23:33), as inforçãos estão no formato correto e com valores que aparecentemente estão certo na grandesa correta."
   ]
  }
 ],
 "metadata": {
  "kernelspec": {
   "display_name": "base",
   "language": "python",
   "name": "python3"
  },
  "language_info": {
   "codemirror_mode": {
    "name": "ipython",
    "version": 3
   },
   "file_extension": ".py",
   "mimetype": "text/x-python",
   "name": "python",
   "nbconvert_exporter": "python",
   "pygments_lexer": "ipython3",
   "version": "3.11.9"
  }
 },
 "nbformat": 4,
 "nbformat_minor": 2
}
